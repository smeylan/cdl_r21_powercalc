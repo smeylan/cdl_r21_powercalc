{
 "cells": [
  {
   "cell_type": "code",
   "execution_count": 1,
   "metadata": {},
   "outputs": [
    {
     "name": "stderr",
     "output_type": "stream",
     "text": [
      "Loading required package: Matrix\n",
      "\n"
     ]
    }
   ],
   "source": [
    "library('lme4')\n",
    "library('parallel')\n",
    "library('gtools')\n",
    "library('ggplot2')"
   ]
  },
  {
   "cell_type": "code",
   "execution_count": 2,
   "metadata": {},
   "outputs": [],
   "source": [
    "sim_expt <- function(numSubjects, numItems,  b0=0, Vsubj=1, VsubjCond=NULL, Vitem=1, VitemCond=NULL, Verror=1, exptIndex,\n",
    "                     bCondition=NULL, bProbOfMispronunciation=NULL, bEditDistance=NULL) {\n",
    "  \n",
    "  Subject <- rep(1:numSubjects, each=numItems)\n",
    "  Item <- rep( 1:numItems, numSubjects)\n",
    "  \n",
    "  # Condition assignments for each subject and Item\n",
    "  if (exptIndex == 1){      \n",
    "    # Expt 1: counterbalanced design. Each participant sees a stimulus either with context or without context\n",
    "    # assign 1/2 of participants to 0,1 and 1/2 to 1,0    \n",
    "    cb_1 =  rep(c(1,-1), each=(numItems/2))\n",
    "    cb_2 =  rep(c(-1,1), each=(numItems/2))\n",
    "    Condition <- c(rep(cb_1, each = numSubjects/2), rep(cb_2, each = numSubjects/2))\n",
    "  } else if (exptIndex == 2){\n",
    "\n",
    "    # Expt 2: 2 continuous predictors, no interaction. All participants see the same stimuli\n",
    "      ProbOfMispronunciation = scale(rnorm(numItems, 0, sqrt(1)))\n",
    "      EditDistance = scale(rnorm(numItems, 0, sqrt(1)))\n",
    "      \n",
    "      # overload VsubjCond for both vars, ProbOfMispronunciation and EditDistance\n",
    "      S.ProbOfMispronunciation.re = rnorm(numSubjects, 0, sqrt(VsubjCond))\n",
    "      S.EditDistance.re = rnorm(numSubjects, 0, sqrt(VsubjCond))\n",
    "          \n",
    "  } else if (exptIndex == 3){\n",
    "      # Expt 3: Participants are within a condition  \n",
    "      # half of participants are in cond 1, half in cond 2\n",
    "      Condition <- rep(c(1,-1), each=numSubjects*(numItems/2)) \n",
    "  } else if (exptIndex == 4) {\n",
    "      # Hypothetical Expt 4: Stimuli are within a condition -- likely mispronunciation vs. low probability mispronunciation      \n",
    "      Condition <- rep(c(rep(c(1),each =numItems/2), rep(c(0),each =numItems/2)), each=numSubjects)      \n",
    "  } else {\n",
    "      stop('exptIndex not recognized ')\n",
    "  }\n",
    "  \n",
    "  # random effects per subject\n",
    "  S.re <- rnorm(numSubjects, 0, sqrt(Vsubj)) # draw once for the variability associated with each subject\n",
    "    \n",
    "  if (exptIndex %in%  c(1,4)){\n",
    "      # no random effects per subject and condition in Expt 3 -- if 1 condition per subject, it's singular\n",
    "      # no random effects per subject and condition in Expt 2 -- no conditions \n",
    "      S.Cond.re <- rnorm(numSubjects, 0, sqrt(VsubjCond)) # draw once for the variability associated with each subject and condition\n",
    "  }\n",
    "      \n",
    "  # random effects per item\n",
    "  I.re <- rnorm(numItems, 0, sqrt(Vitem))\n",
    "  \n",
    "  # random effects per item and condition\n",
    "  if (exptIndex %in% c(1,3)){\n",
    "      # no random effects per item and condition in Expt 2 -- no conditions \n",
    "      # no random effects per item and condition in Expt 4 -- if 1 conditition per item, it's singular      \n",
    "      I.Cond.re <- rnorm(numItems, 0, sqrt(VitemCond))\n",
    "  } \n",
    "    \n",
    "  # epsilons\n",
    "  eps <- rnorm(numSubjects * numItems, 0, sqrt(Verror))\n",
    "  \n",
    "    if (exptIndex  == 1){\n",
    "      linear_predictions = b0 + bCondition*(Condition) + S.re[Subject] +S.Cond.re[Subject]*Condition + I.re[Item] + I.Cond.re[Item]*Condition + eps\n",
    "   }  \n",
    "   else if (exptIndex == 2){\n",
    "       linear_predictions = b0 + bProbOfMispronunciation*ProbOfMispronunciation[Item]  + \n",
    "       bEditDistance*EditDistance[Item] +\n",
    "       + S.ProbOfMispronunciation.re[Subject]*ProbOfMispronunciation[Item] + \n",
    "       + S.EditDistance.re[Subject]*EditDistance[Item] + \n",
    "       I.re + S.re + eps       \n",
    "   } else if (exptIndex  == 3){\n",
    "       # no contribution of subject * condition\n",
    "      linear_predictions = b0 + bCondition*(Condition) + S.re[Subject] + I.re[Item] + I.Cond.re[Item]*Condition + eps\n",
    "   } else if (exptIndex  == 4){\n",
    "       # no contribution of item * condition\n",
    "      linear_predictions = b0 + bCondition*(Condition) + S.re[Subject] + S.Cond.re[Subject]*Condition +  I.re[Item] + eps\n",
    "   }\n",
    "   Found_a_word  <- inv.logit(linear_predictions) > .5 \n",
    "\n",
    "\n",
    "  \n",
    "  # Build the data frame\n",
    "  if (exptIndex %in% c(1,3,4)){\n",
    "      mydata <- data.frame( Subject, \n",
    "                        Item,\n",
    "                        Condition,  \n",
    "                        Found_a_word)\n",
    "   }\n",
    "    \n",
    "  if (exptIndex %in% c(2)){  \n",
    "      mydata <- data.frame( Subject, \n",
    "                        Item,\n",
    "                        ProbOfMispronunciation = ProbOfMispronunciation[Item],\n",
    "                        EditDistance = EditDistance[Item],\n",
    "                        mp_re =    S.ProbOfMispronunciation.re[Subject],\n",
    "                        ed_re =   S.EditDistance.re[Subject],\n",
    "                        I.re = I.re[Item],\n",
    "                        S.re = S.re[Subject],     \n",
    "                        eps,\n",
    "                        Found_a_word)\n",
    "   }\n",
    "\n",
    "  # Fit the corresponding model\n",
    "  if (exptIndex == 1){  \n",
    "      m <- glmer( Found_a_word ~ Condition + (Condition|Subject) + (Condition|Item), data=mydata, family = binomial)\n",
    "  } else if (exptIndex == 2){  \n",
    "      print('Fitting model for experiment 2')\n",
    "    m <- glmer( Found_a_word ~  ProbOfMispronunciation + EditDistance + \n",
    "               (ProbOfMispronunciation + EditDistance |Subject) + (1|Item), data=mydata, family = binomial)\n",
    "      #control=glmerControl(optimizer=\"bobyqa\",optCtrl=list(maxfun=2e5))\n",
    "  } else if (exptIndex == 3){  \n",
    "      m <- glmer( Found_a_word ~ Condition + (1|Subject) + (Condition|Item), data=mydata, family = binomial)\n",
    "  }  else if (exptIndex == 4){ \n",
    "      m <- glmer( Found_a_word ~ Condition + (Condition|Subject) + (1|Item), data=mydata, family = binomial)\n",
    "  }\n",
    "  fit = summary(m)\n",
    "  \n",
    "  rlist = list()\n",
    "  rlist$fit = fit\n",
    "  rlist$data = mydata\n",
    "  if (exptIndex %in% c(1,3,4)){  \n",
    "      rlist$sig = fit$coefficients['Condition','Pr(>|z|)']\n",
    "      rlist$cond_beta = exp(fit$coefficients['Condition','Estimate'])\n",
    "  } \n",
    "  if (exptIndex %in% c(2)){  \n",
    "      rlist$sig_pm = fit$coefficients['ProbOfMispronunciation','Pr(>|z|)']\n",
    "      rlist$sig_ed = fit$coefficients['EditDistance','Pr(>|z|)']\n",
    "      rlist$pm_beta = exp(fit$coefficients['ProbOfMispronunciation','Estimate'])\n",
    "      rlist$ed_beta = exp(fit$coefficients['EditDistance','Estimate'])\n",
    "  } \n",
    "   \n",
    "  return(rlist)\n",
    "}"
   ]
  },
  {
   "cell_type": "markdown",
   "metadata": {},
   "source": [
    "# Experiment 1"
   ]
  },
  {
   "cell_type": "code",
   "execution_count": 3,
   "metadata": {},
   "outputs": [],
   "source": [
    "expt1_results = mclapply(c(1:240), function(x){\n",
    "  return(sim_expt(numSubjects = 120, numItems=60,\n",
    "       bCondition=.3, Vsubj=1, VsubjCond = .1, Vitem=1, VitemCond =.1,  Verror=1, exptIndex = 1))\n",
    "}, mc.cores = 48)"
   ]
  },
  {
   "cell_type": "code",
   "execution_count": 4,
   "metadata": {},
   "outputs": [
    {
     "data": {
      "text/html": [
       "0.8375"
      ],
      "text/latex": [
       "0.8375"
      ],
      "text/markdown": [
       "0.8375"
      ],
      "text/plain": [
       "[1] 0.8375"
      ]
     },
     "metadata": {},
     "output_type": "display_data"
    }
   ],
   "source": [
    "mean(sapply(expt1_results, function(x){x$sig}) < .05)"
   ]
  },
  {
   "cell_type": "code",
   "execution_count": 5,
   "metadata": {},
   "outputs": [
    {
     "data": {
      "image/png": "[encoded data removed]",
      "text/plain": [
       "plot without title"
      ]
     },
     "metadata": {
      "image/png": {
       "height": 420,
       "width": 420
      },
      "text/plain": {
       "height": 420,
       "width": 420
      }
     },
     "output_type": "display_data"
    }
   ],
   "source": [
    "df = data.frame(cond_beta = sapply(expt1_results, function(x){x$cond_beta}))\n",
    "ggplot(df) + geom_density(aes(x=cond_beta))"
   ]
  },
  {
   "cell_type": "code",
   "execution_count": 6,
   "metadata": {},
   "outputs": [
    {
     "data": {
      "text/html": [
       "1.72250636421007"
      ],
      "text/latex": [
       "1.72250636421007"
      ],
      "text/markdown": [
       "1.72250636421007"
      ],
      "text/plain": [
       "[1] 1.722506"
      ]
     },
     "metadata": {},
     "output_type": "display_data"
    }
   ],
   "source": [
    "mean(df$cond_beta)"
   ]
  },
  {
   "cell_type": "markdown",
   "metadata": {},
   "source": [
    "A sample of 120 subjects completing 60 trials is sufficient to detect (with power .8) an effect of condition \n",
    "assuming an odds ratio of around 1.68 (corresponding to a small effects size, or a Cohen's d of .2, Chen 2010). "
   ]
  },
  {
   "cell_type": "markdown",
   "metadata": {},
   "source": [
    "# Experiment 2"
   ]
  },
  {
   "cell_type": "code",
   "execution_count": 23,
   "metadata": {},
   "outputs": [],
   "source": [
    "expt2_results = mclapply(c(1:48), function(x){\n",
    "  return(sim_expt(numSubjects = 200, numItems=60,\n",
    "       bProbOfMispronunciation=.3, bEditDistance=.3, Vsubj=1, VsubjCond = .1, Vitem=1,  Verror=1, exptIndex = 2))\n",
    "}, mc.cores = 48)"
   ]
  },
  {
   "cell_type": "code",
   "execution_count": 24,
   "metadata": {},
   "outputs": [
    {
     "data": {
      "text/html": [
       "0.604166666666667"
      ],
      "text/latex": [
       "0.604166666666667"
      ],
      "text/markdown": [
       "0.604166666666667"
      ],
      "text/plain": [
       "[1] 0.6041667"
      ]
     },
     "metadata": {},
     "output_type": "display_data"
    }
   ],
   "source": [
    "mean(sapply(expt2_results, function(x){x$sig_pm}) < .05)"
   ]
  },
  {
   "cell_type": "code",
   "execution_count": 25,
   "metadata": {},
   "outputs": [
    {
     "data": {
      "image/png": "[encoded data removed]",
      "text/plain": [
       "plot without title"
      ]
     },
     "metadata": {
      "image/png": {
       "height": 420,
       "width": 420
      },
      "text/plain": {
       "height": 420,
       "width": 420
      }
     },
     "output_type": "display_data"
    }
   ],
   "source": [
    "df = data.frame(pm_beta = sapply(expt2_results, function(x){x$pm_beta}))\n",
    "ggplot(df) + geom_density(aes(x=pm_beta))"
   ]
  },
  {
   "cell_type": "markdown",
   "metadata": {},
   "source": [
    "# Experiment 3"
   ]
  },
  {
   "cell_type": "code",
   "execution_count": 10,
   "metadata": {},
   "outputs": [],
   "source": [
    "expt3_results = mclapply(c(1:240), function(x){\n",
    "  return(sim_expt(numSubjects = 120, numItems=60,\n",
    "       bCondition=.3, Vsubj=1, Vitem=1, VitemCond =.1,  Verror=1, exptIndex = 3))\n",
    "}, mc.cores = 48)"
   ]
  },
  {
   "cell_type": "code",
   "execution_count": 11,
   "metadata": {},
   "outputs": [
    {
     "data": {
      "text/html": [
       "0.783333333333333"
      ],
      "text/latex": [
       "0.783333333333333"
      ],
      "text/markdown": [
       "0.783333333333333"
      ],
      "text/plain": [
       "[1] 0.7833333"
      ]
     },
     "metadata": {},
     "output_type": "display_data"
    }
   ],
   "source": [
    "mean(sapply(expt3_results, function(x){x$sig}) < .05)"
   ]
  },
  {
   "cell_type": "code",
   "execution_count": 12,
   "metadata": {},
   "outputs": [
    {
     "data": {
      "image/png": "[encoded data removed]",
      "text/plain": [
       "plot without title"
      ]
     },
     "metadata": {
      "image/png": {
       "height": 420,
       "width": 420
      },
      "text/plain": {
       "height": 420,
       "width": 420
      }
     },
     "output_type": "display_data"
    }
   ],
   "source": [
    "df = data.frame(cond_beta = sapply(expt3_results, function(x){x$cond_beta}))\n",
    "ggplot(df) + geom_density(aes(x=cond_beta))"
   ]
  },
  {
   "cell_type": "code",
   "execution_count": 13,
   "metadata": {},
   "outputs": [
    {
     "data": {
      "text/html": [
       "1.7081222337394"
      ],
      "text/latex": [
       "1.7081222337394"
      ],
      "text/markdown": [
       "1.7081222337394"
      ],
      "text/plain": [
       "[1] 1.708122"
      ]
     },
     "metadata": {},
     "output_type": "display_data"
    }
   ],
   "source": [
    "mean(df$cond_beta)"
   ]
  },
  {
   "cell_type": "markdown",
   "metadata": {},
   "source": [
    "A sample of 200 subjects completing 60 trials is sufficient to detect (with power .8) an effect of condition \n",
    "assuming an odds ratio of around 1.5 (corresponding to a small effects size, or a Cohen's d of .2, Chen 2010). "
   ]
  },
  {
   "cell_type": "markdown",
   "metadata": {},
   "source": [
    "# Experiment 4 (Hypothetical)"
   ]
  },
  {
   "cell_type": "code",
   "execution_count": 14,
   "metadata": {},
   "outputs": [],
   "source": [
    "# What about a discrete, single variable version of Experiment 2?"
   ]
  },
  {
   "cell_type": "code",
   "execution_count": 15,
   "metadata": {},
   "outputs": [],
   "source": [
    "expt4_results = mclapply(c(1:240), function(x){\n",
    "  return(sim_expt(numSubjects = 100, numItems=60,\n",
    "       bCondition=.3, Vsubj=1, VsubjCond = .1, Vitem=1,  Verror=1, exptIndex = 4))\n",
    "},  mc.cores = 48)"
   ]
  },
  {
   "cell_type": "code",
   "execution_count": 16,
   "metadata": {},
   "outputs": [
    {
     "data": {
      "text/html": [
       "0.316666666666667"
      ],
      "text/latex": [
       "0.316666666666667"
      ],
      "text/markdown": [
       "0.316666666666667"
      ],
      "text/plain": [
       "[1] 0.3166667"
      ]
     },
     "metadata": {},
     "output_type": "display_data"
    }
   ],
   "source": [
    "mean(sapply(expt4_results, function(x){x$sig}) < .05)"
   ]
  },
  {
   "cell_type": "code",
   "execution_count": 17,
   "metadata": {},
   "outputs": [
    {
     "data": {
      "image/png": "[encoded data removed]",
      "text/plain": [
       "plot without title"
      ]
     },
     "metadata": {
      "image/png": {
       "height": 420,
       "width": 420
      },
      "text/plain": {
       "height": 420,
       "width": 420
      }
     },
     "output_type": "display_data"
    }
   ],
   "source": [
    "df = data.frame(cond_beta = sapply(expt4_results, function(x){x$cond_beta}))\n",
    "ggplot(df) + geom_density(aes(x=cond_beta))"
   ]
  },
  {
   "cell_type": "code",
   "execution_count": 18,
   "metadata": {},
   "outputs": [
    {
     "data": {
      "text/html": [
       "1.80234226059826"
      ],
      "text/latex": [
       "1.80234226059826"
      ],
      "text/markdown": [
       "1.80234226059826"
      ],
      "text/plain": [
       "[1] 1.802342"
      ]
     },
     "metadata": {},
     "output_type": "display_data"
    }
   ],
   "source": [
    "mean(df$cond_beta)"
   ]
  },
  {
   "cell_type": "markdown",
   "metadata": {},
   "source": [
    "# Todo"
   ]
  },
  {
   "cell_type": "code",
   "execution_count": 19,
   "metadata": {},
   "outputs": [],
   "source": [
    "#[X] Switch to contrast coding\n",
    "#[X] mclapply for running faster and in parallel -- not working for some reason\n",
    "#[X] switch this to a notebook on my huge machine, obviously\n",
    "#[X] Add random slopes -- both the the mixed effects model and to the generative process\n",
    "    # [X] Convergence issues -- singular fit in expt 3\n",
    "    # [X] VsubjCond is not handled correctly in the data model\n",
    "#[X] Think about relationship of conditions, items and participants -- following Westfall\n",
    "# [X] Expt 1: \"counterbalanced design\"\n",
    "# [X] Expt 2:  Stimuli-within-condition: High. Note that this only a single condition \n",
    "# [X] Expt 3: Participants-within a condition\n",
    "# -- all of these get implemented as changes to the nature of the input data frame\n",
    "#[X] Figure out what reasonable estimates of subject and item variability are\n",
    "  # in the context of a logistic regression\n",
    "# Odds ratios are effect sizes IFF the predictor is binary or if a continuous variable is standardized\n",
    "# if the effect size is X, then we need N participants to get a power of y \n",
    "# bcond and variances specify an effect size (albeit noisily)\n",
    "# so with the simulated data, I can compute an effect size from the odds ratios\n",
    "# Look at Westfall for effect size calculation\n",
    "# [X] Make Expt 2 handle two continuous predictors\n",
    "\n",
    "# [ ] why is there so much variabiity in the effect size under the simulation?\n",
    "# [ ] switch LME4 for BRMS? very slow"
   ]
  }
 ],
 "metadata": {
  "kernelspec": {
   "display_name": "R 3.6",
   "language": "R",
   "name": "ir32"
  },
  "language_info": {
   "codemirror_mode": "r",
   "file_extension": ".r",
   "mimetype": "text/x-r-source",
   "name": "R",
   "pygments_lexer": "r",
   "version": "3.6.3"
  },
  "nav_menu": {},
  "toc": {
   "navigate_menu": true,
   "number_sections": true,
   "sideBar": true,
   "threshold": 6,
   "toc_cell": false,
   "toc_section_display": "block",
   "toc_window_display": false
  }
 },
 "nbformat": 4,
 "nbformat_minor": 4
}
